{
 "cells": [
  {
   "cell_type": "code",
   "execution_count": 55,
   "metadata": {},
   "outputs": [],
   "source": [
    "import requests\n",
    "from secrets_config import api_key\n",
    "import pandas as pd\n",
    "# api_key = os.environ.get(\"api_key\")"
   ]
  },
  {
   "cell_type": "code",
   "execution_count": 56,
   "metadata": {},
   "outputs": [],
   "source": [
    "# other variables: Note: these are case-sensitive\n",
    "from_symbol = 'USD'\n",
    "to_symbol = 'RUB'"
   ]
  },
  {
   "cell_type": "code",
   "execution_count": 85,
   "metadata": {},
   "outputs": [],
   "source": [
    "# goal state: 3 columns: 1. from_to symbols (USD_RUB), 2. Day, 3. avg price\n",
    "url = f'https://www.alphavantage.co/query?function=FX_DAILY&from_symbol={from_symbol}&to_symbol={to_symbol}&apikey={api_key}'\n",
    "r = requests.get(url)\n",
    "response_data = r.json()"
   ]
  },
  {
   "cell_type": "code",
   "execution_count": 188,
   "metadata": {},
   "outputs": [
    {
     "data": {
      "text/plain": [
       "{'1. Information': 'Forex Daily Prices (open, high, low, close)',\n",
       " '2. From Symbol': 'USD',\n",
       " '3. To Symbol': 'RUB',\n",
       " '4. Output Size': 'Compact',\n",
       " '5. Last Refreshed': '2022-09-28 01:25:00',\n",
       " '6. Time Zone': 'UTC'}"
      ]
     },
     "execution_count": 188,
     "metadata": {},
     "output_type": "execute_result"
    }
   ],
   "source": [
    "response_data['Meta Data']"
   ]
  },
  {
   "cell_type": "code",
   "execution_count": 192,
   "metadata": {},
   "outputs": [
    {
     "data": {
      "text/plain": [
       "dict_keys(['Meta Data', 'Time Series FX (Daily)'])"
      ]
     },
     "execution_count": 192,
     "metadata": {},
     "output_type": "execute_result"
    }
   ],
   "source": [
    "response_data.keys()"
   ]
  },
  {
   "cell_type": "code",
   "execution_count": null,
   "metadata": {},
   "outputs": [],
   "source": [
    "response_data['Time Series FX (Daily)']"
   ]
  },
  {
   "cell_type": "code",
   "execution_count": 191,
   "metadata": {},
   "outputs": [
    {
     "data": {
      "text/html": [
       "<div>\n",
       "<style scoped>\n",
       "    .dataframe tbody tr th:only-of-type {\n",
       "        vertical-align: middle;\n",
       "    }\n",
       "\n",
       "    .dataframe tbody tr th {\n",
       "        vertical-align: top;\n",
       "    }\n",
       "\n",
       "    .dataframe thead th {\n",
       "        text-align: right;\n",
       "    }\n",
       "</style>\n",
       "<table border=\"1\" class=\"dataframe\">\n",
       "  <thead>\n",
       "    <tr style=\"text-align: right;\">\n",
       "      <th></th>\n",
       "      <th>Meta Data.1. Information</th>\n",
       "      <th>Meta Data.2. From Symbol</th>\n",
       "      <th>Meta Data.3. To Symbol</th>\n",
       "      <th>Meta Data.4. Output Size</th>\n",
       "      <th>Meta Data.5. Last Refreshed</th>\n",
       "      <th>Meta Data.6. Time Zone</th>\n",
       "      <th>Time Series FX (Daily).2022-09-28.1. open</th>\n",
       "      <th>Time Series FX (Daily).2022-09-28.2. high</th>\n",
       "      <th>Time Series FX (Daily).2022-09-28.3. low</th>\n",
       "      <th>Time Series FX (Daily).2022-09-28.4. close</th>\n",
       "      <th>...</th>\n",
       "      <th>Time Series FX (Daily).2022-05-16.3. low</th>\n",
       "      <th>Time Series FX (Daily).2022-05-16.4. close</th>\n",
       "      <th>Time Series FX (Daily).2022-05-13.1. open</th>\n",
       "      <th>Time Series FX (Daily).2022-05-13.2. high</th>\n",
       "      <th>Time Series FX (Daily).2022-05-13.3. low</th>\n",
       "      <th>Time Series FX (Daily).2022-05-13.4. close</th>\n",
       "      <th>Time Series FX (Daily).2022-05-12.1. open</th>\n",
       "      <th>Time Series FX (Daily).2022-05-12.2. high</th>\n",
       "      <th>Time Series FX (Daily).2022-05-12.3. low</th>\n",
       "      <th>Time Series FX (Daily).2022-05-12.4. close</th>\n",
       "    </tr>\n",
       "  </thead>\n",
       "  <tbody>\n",
       "    <tr>\n",
       "      <th>0</th>\n",
       "      <td>Forex Daily Prices (open, high, low, close)</td>\n",
       "      <td>USD</td>\n",
       "      <td>RUB</td>\n",
       "      <td>Compact</td>\n",
       "      <td>2022-09-28 01:25:00</td>\n",
       "      <td>UTC</td>\n",
       "      <td>58.15000</td>\n",
       "      <td>58.15000</td>\n",
       "      <td>57.75000</td>\n",
       "      <td>57.75000</td>\n",
       "      <td>...</td>\n",
       "      <td>62.75000</td>\n",
       "      <td>63.87500</td>\n",
       "      <td>65.07500</td>\n",
       "      <td>66.10730</td>\n",
       "      <td>62.08350</td>\n",
       "      <td>64.50000</td>\n",
       "      <td>66.73790</td>\n",
       "      <td>67.00000</td>\n",
       "      <td>63.00000</td>\n",
       "      <td>64.74700</td>\n",
       "    </tr>\n",
       "  </tbody>\n",
       "</table>\n",
       "<p>1 rows × 406 columns</p>\n",
       "</div>"
      ],
      "text/plain": [
       "                      Meta Data.1. Information Meta Data.2. From Symbol  \\\n",
       "0  Forex Daily Prices (open, high, low, close)                      USD   \n",
       "\n",
       "  Meta Data.3. To Symbol Meta Data.4. Output Size Meta Data.5. Last Refreshed  \\\n",
       "0                    RUB                  Compact         2022-09-28 01:25:00   \n",
       "\n",
       "  Meta Data.6. Time Zone Time Series FX (Daily).2022-09-28.1. open  \\\n",
       "0                    UTC                                  58.15000   \n",
       "\n",
       "  Time Series FX (Daily).2022-09-28.2. high  \\\n",
       "0                                  58.15000   \n",
       "\n",
       "  Time Series FX (Daily).2022-09-28.3. low  \\\n",
       "0                                 57.75000   \n",
       "\n",
       "  Time Series FX (Daily).2022-09-28.4. close  ...  \\\n",
       "0                                   57.75000  ...   \n",
       "\n",
       "  Time Series FX (Daily).2022-05-16.3. low  \\\n",
       "0                                 62.75000   \n",
       "\n",
       "  Time Series FX (Daily).2022-05-16.4. close  \\\n",
       "0                                   63.87500   \n",
       "\n",
       "  Time Series FX (Daily).2022-05-13.1. open  \\\n",
       "0                                  65.07500   \n",
       "\n",
       "  Time Series FX (Daily).2022-05-13.2. high  \\\n",
       "0                                  66.10730   \n",
       "\n",
       "  Time Series FX (Daily).2022-05-13.3. low  \\\n",
       "0                                 62.08350   \n",
       "\n",
       "  Time Series FX (Daily).2022-05-13.4. close  \\\n",
       "0                                   64.50000   \n",
       "\n",
       "  Time Series FX (Daily).2022-05-12.1. open  \\\n",
       "0                                  66.73790   \n",
       "\n",
       "  Time Series FX (Daily).2022-05-12.2. high  \\\n",
       "0                                  67.00000   \n",
       "\n",
       "  Time Series FX (Daily).2022-05-12.3. low  \\\n",
       "0                                 63.00000   \n",
       "\n",
       "  Time Series FX (Daily).2022-05-12.4. close  \n",
       "0                                   64.74700  \n",
       "\n",
       "[1 rows x 406 columns]"
      ]
     },
     "execution_count": 191,
     "metadata": {},
     "output_type": "execute_result"
    }
   ],
   "source": [
    "df = pd.json_normalize(response_data)\n",
    "df"
   ]
  },
  {
   "cell_type": "code",
   "execution_count": null,
   "metadata": {},
   "outputs": [],
   "source": [
    "df = pd.json_normalize(response_data, record_path=['Time Series FX (Daily)'])\n",
    "df"
   ]
  },
  {
   "cell_type": "code",
   "execution_count": null,
   "metadata": {},
   "outputs": [],
   "source": [
    "# df = pd.json_normalize(data=response_data, record_path=['Time Series FX (Daily)'])"
   ]
  },
  {
   "cell_type": "code",
   "execution_count": null,
   "metadata": {},
   "outputs": [],
   "source": [
    "# Getting the date per day\n",
    "for i in response_data['Time Series FX (Daily)']:\n",
    "    print(i)"
   ]
  },
  {
   "cell_type": "code",
   "execution_count": null,
   "metadata": {},
   "outputs": [],
   "source": [
    "# Getting the close values per day\n",
    "for i in response_data['Time Series FX (Daily)'].values():\n",
    "    print(i['4. close'])"
   ]
  },
  {
   "cell_type": "code",
   "execution_count": 131,
   "metadata": {},
   "outputs": [],
   "source": [
    "transposed_df = df.T"
   ]
  },
  {
   "cell_type": "code",
   "execution_count": 132,
   "metadata": {},
   "outputs": [
    {
     "data": {
      "text/html": [
       "<div>\n",
       "<style scoped>\n",
       "    .dataframe tbody tr th:only-of-type {\n",
       "        vertical-align: middle;\n",
       "    }\n",
       "\n",
       "    .dataframe tbody tr th {\n",
       "        vertical-align: top;\n",
       "    }\n",
       "\n",
       "    .dataframe thead th {\n",
       "        text-align: right;\n",
       "    }\n",
       "</style>\n",
       "<table border=\"1\" class=\"dataframe\">\n",
       "  <thead>\n",
       "    <tr style=\"text-align: right;\">\n",
       "      <th></th>\n",
       "      <th>0</th>\n",
       "    </tr>\n",
       "  </thead>\n",
       "  <tbody>\n",
       "    <tr>\n",
       "      <th>2022-09-28.1. open</th>\n",
       "      <td>58.15000</td>\n",
       "    </tr>\n",
       "    <tr>\n",
       "      <th>2022-09-28.2. high</th>\n",
       "      <td>58.15000</td>\n",
       "    </tr>\n",
       "    <tr>\n",
       "      <th>2022-09-28.3. low</th>\n",
       "      <td>57.75000</td>\n",
       "    </tr>\n",
       "    <tr>\n",
       "      <th>2022-09-28.4. close</th>\n",
       "      <td>57.75000</td>\n",
       "    </tr>\n",
       "    <tr>\n",
       "      <th>2022-09-27.1. open</th>\n",
       "      <td>58.48880</td>\n",
       "    </tr>\n",
       "    <tr>\n",
       "      <th>...</th>\n",
       "      <td>...</td>\n",
       "    </tr>\n",
       "    <tr>\n",
       "      <th>2022-05-13.4. close</th>\n",
       "      <td>64.50000</td>\n",
       "    </tr>\n",
       "    <tr>\n",
       "      <th>2022-05-12.1. open</th>\n",
       "      <td>66.73790</td>\n",
       "    </tr>\n",
       "    <tr>\n",
       "      <th>2022-05-12.2. high</th>\n",
       "      <td>67.00000</td>\n",
       "    </tr>\n",
       "    <tr>\n",
       "      <th>2022-05-12.3. low</th>\n",
       "      <td>63.00000</td>\n",
       "    </tr>\n",
       "    <tr>\n",
       "      <th>2022-05-12.4. close</th>\n",
       "      <td>64.74700</td>\n",
       "    </tr>\n",
       "  </tbody>\n",
       "</table>\n",
       "<p>400 rows × 1 columns</p>\n",
       "</div>"
      ],
      "text/plain": [
       "                            0\n",
       "2022-09-28.1. open   58.15000\n",
       "2022-09-28.2. high   58.15000\n",
       "2022-09-28.3. low    57.75000\n",
       "2022-09-28.4. close  57.75000\n",
       "2022-09-27.1. open   58.48880\n",
       "...                       ...\n",
       "2022-05-13.4. close  64.50000\n",
       "2022-05-12.1. open   66.73790\n",
       "2022-05-12.2. high   67.00000\n",
       "2022-05-12.3. low    63.00000\n",
       "2022-05-12.4. close  64.74700\n",
       "\n",
       "[400 rows x 1 columns]"
      ]
     },
     "execution_count": 132,
     "metadata": {},
     "output_type": "execute_result"
    }
   ],
   "source": [
    "transposed_df"
   ]
  }
 ],
 "metadata": {
  "kernelspec": {
   "display_name": "Python 3.9.13 ('bootcamp')",
   "language": "python",
   "name": "python3"
  },
  "language_info": {
   "codemirror_mode": {
    "name": "ipython",
    "version": 3
   },
   "file_extension": ".py",
   "mimetype": "text/x-python",
   "name": "python",
   "nbconvert_exporter": "python",
   "pygments_lexer": "ipython3",
   "version": "3.9.13"
  },
  "orig_nbformat": 4,
  "vscode": {
   "interpreter": {
    "hash": "0b38f1e28d514b112a88730f838bb91e998be274877cd91b4814bec3589a46e4"
   }
  }
 },
 "nbformat": 4,
 "nbformat_minor": 2
}
